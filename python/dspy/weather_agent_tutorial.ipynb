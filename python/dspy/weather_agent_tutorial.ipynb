{
 "cells": [
  {
   "cell_type": "markdown",
   "id": "da0e0056",
   "metadata": {},
   "source": [
    "Following [DSPy: Building an AI Agent with Custom Tools in 40 Lines | Zero to Hero](https://medium.com/@original2547/dspy-building-an-ai-agent-with-custom-tools-in-40-lines-zero-to-hero-4e723580352c)"
   ]
  },
  {
   "cell_type": "code",
   "id": "a61c7cdc",
   "metadata": {
    "ExecuteTime": {
     "end_time": "2025-07-16T14:11:42.520823Z",
     "start_time": "2025-07-16T14:11:41.448628Z"
    }
   },
   "source": [
    "from dotenv import load_dotenv\n",
    "\n",
    "import dspy"
   ],
   "outputs": [],
   "execution_count": 1
  },
  {
   "cell_type": "code",
   "id": "5cec926e",
   "metadata": {
    "ExecuteTime": {
     "end_time": "2025-07-16T14:11:42.558120Z",
     "start_time": "2025-07-16T14:11:42.555337Z"
    }
   },
   "source": [
    "load_dotenv()"
   ],
   "outputs": [
    {
     "data": {
      "text/plain": [
       "True"
      ]
     },
     "execution_count": 2,
     "metadata": {},
     "output_type": "execute_result"
    }
   ],
   "execution_count": 2
  },
  {
   "cell_type": "code",
   "id": "cc8a022c",
   "metadata": {
    "ExecuteTime": {
     "end_time": "2025-07-16T14:11:42.564965Z",
     "start_time": "2025-07-16T14:11:42.563203Z"
    }
   },
   "source": [
    "lm = dspy.LM(\"gpt-4.1-nano\")\n",
    "dspy.configure(lm=lm)"
   ],
   "outputs": [],
   "execution_count": 3
  },
  {
   "cell_type": "code",
   "id": "e0fd730c",
   "metadata": {
    "ExecuteTime": {
     "end_time": "2025-07-16T14:11:42.602379Z",
     "start_time": "2025-07-16T14:11:42.600711Z"
    }
   },
   "source": [
    "def get_weather(city: str) -> str:\n",
    "    \"\"\"Get weather data for a city\"\"\"\n",
    "    mock_data = {\n",
    "        \"New York\": \"Sunny, 25°C\",\n",
    "        \"Los Angeles\": \"Cloudy, 20°C\",\n",
    "        \"Chicago\": \"Rainy, 15°C\",\n",
    "        \"Houston\": \"Thunderstorms, 30°C\",\n",
    "        \"Phoenix\": \"Sunny, 35°C\",\n",
    "    }\n",
    "    return mock_data.get(city, \"Weather data not available\")"
   ],
   "outputs": [],
   "execution_count": 4
  },
  {
   "cell_type": "code",
   "id": "0f8e42f0",
   "metadata": {
    "ExecuteTime": {
     "end_time": "2025-07-16T14:11:42.608352Z",
     "start_time": "2025-07-16T14:11:42.606536Z"
    }
   },
   "source": [
    "class AgentTools(dspy.Signature):\n",
    "    \"\"\"AI assistant able to use tools\"\"\"\n",
    "    \n",
    "    input_query: str = dspy.InputField()\n",
    "    \n",
    "    history = dspy.InputField(desc=\"Chat history\")\n",
    "    output = dspy.OutputField(desc=\"Response to user\")"
   ],
   "outputs": [],
   "execution_count": 5
  },
  {
   "cell_type": "code",
   "id": "15d0c4f5",
   "metadata": {
    "ExecuteTime": {
     "end_time": "2025-07-16T14:11:42.614167Z",
     "start_time": "2025-07-16T14:11:42.612233Z"
    }
   },
   "source": [
    "class Agent(dspy.Module):\n",
    "    def __init__(self):\n",
    "        super().__init__()\n",
    "        self.history = []\n",
    "        self.tools_utils = dspy.ReAct(AgentTools, tools=[get_weather])\n",
    "    \n",
    "    def __call__(self, input: str):\n",
    "        self.add_memory(input)\n",
    "        str_history = \"\\n\".join(self.history.copy())\n",
    "        result = self.tools_utils(input_query=input, history=str_history).output\n",
    "        self.add_memory(result)\n",
    "        return result\n",
    "    \n",
    "    def add_memory(self, memory: str):\n",
    "        self.history.append((\"USER: \"if len(self.history) % 2 == 0 else \"AI: \") + memory)"
   ],
   "outputs": [],
   "execution_count": 6
  },
  {
   "cell_type": "code",
   "id": "7b6c39b7",
   "metadata": {
    "ExecuteTime": {
     "end_time": "2025-07-16T14:11:42.622148Z",
     "start_time": "2025-07-16T14:11:42.618533Z"
    }
   },
   "source": [
    "chat_module = Agent()"
   ],
   "outputs": [],
   "execution_count": 7
  },
  {
   "cell_type": "code",
   "id": "748c810b",
   "metadata": {
    "ExecuteTime": {
     "end_time": "2025-07-16T14:12:40.509376Z",
     "start_time": "2025-07-16T14:11:42.626763Z"
    }
   },
   "source": [
    "while True:\n",
    "    human_input = input(\"You: \")\n",
    "    print(\"YOU:\\t\" + human_input)\n",
    "    print(\"AI: \\t\", chat_module(human_input))"
   ],
   "outputs": [
    {
     "name": "stdout",
     "output_type": "stream",
     "text": [
      "YOU:\tHi what's up?\n",
      "AI: \t Hi! Not much, just here to help. How can I assist you today?\n",
      "YOU:\tWhat can you do?\n",
      "AI: \t I am an AI assistant capable of helping you with a wide range of tasks, including answering questions, providing information, assisting with writing or calculations, and more. How can I assist you today?\n",
      "YOU:\tWhat's the weather forecast for Shin-Osaka?\n",
      "AI: \t I'm sorry, but I am currently unable to retrieve the weather forecast for Shin-Osaka. Please try again later or check a weather service for the latest information.\n",
      "YOU:\tAnd for New York?\n",
      "AI: \t The current weather in New York is Sunny with a temperature of 25°C.\n"
     ]
    },
    {
     "ename": "KeyboardInterrupt",
     "evalue": "Interrupted by user",
     "output_type": "error",
     "traceback": [
      "\u001B[31m---------------------------------------------------------------------------\u001B[39m",
      "\u001B[31mKeyboardInterrupt\u001B[39m                         Traceback (most recent call last)",
      "\u001B[36mCell\u001B[39m\u001B[36m \u001B[39m\u001B[32mIn[8]\u001B[39m\u001B[32m, line 2\u001B[39m\n\u001B[32m      1\u001B[39m \u001B[38;5;28;01mwhile\u001B[39;00m \u001B[38;5;28;01mTrue\u001B[39;00m:\n\u001B[32m----> \u001B[39m\u001B[32m2\u001B[39m     human_input = \u001B[38;5;28;43minput\u001B[39;49m\u001B[43m(\u001B[49m\u001B[33;43m\"\u001B[39;49m\u001B[33;43mYou: \u001B[39;49m\u001B[33;43m\"\u001B[39;49m\u001B[43m)\u001B[49m\n\u001B[32m      3\u001B[39m     \u001B[38;5;28mprint\u001B[39m(\u001B[33m\"\u001B[39m\u001B[33mYOU:\u001B[39m\u001B[38;5;130;01m\\t\u001B[39;00m\u001B[33m\"\u001B[39m + human_input)\n\u001B[32m      4\u001B[39m     \u001B[38;5;28mprint\u001B[39m(\u001B[33m\"\u001B[39m\u001B[33mAI: \u001B[39m\u001B[38;5;130;01m\\t\u001B[39;00m\u001B[33m\"\u001B[39m, chat_module(human_input))\n",
      "\u001B[36mFile \u001B[39m\u001B[32m~/source/repos/github/lelvilamp/hello-world/.venv/lib/python3.12/site-packages/ipykernel/kernelbase.py:1282\u001B[39m, in \u001B[36mKernel.raw_input\u001B[39m\u001B[34m(self, prompt)\u001B[39m\n\u001B[32m   1280\u001B[39m     msg = \u001B[33m\"\u001B[39m\u001B[33mraw_input was called, but this frontend does not support input requests.\u001B[39m\u001B[33m\"\u001B[39m\n\u001B[32m   1281\u001B[39m     \u001B[38;5;28;01mraise\u001B[39;00m StdinNotImplementedError(msg)\n\u001B[32m-> \u001B[39m\u001B[32m1282\u001B[39m \u001B[38;5;28;01mreturn\u001B[39;00m \u001B[38;5;28;43mself\u001B[39;49m\u001B[43m.\u001B[49m\u001B[43m_input_request\u001B[49m\u001B[43m(\u001B[49m\n\u001B[32m   1283\u001B[39m \u001B[43m    \u001B[49m\u001B[38;5;28;43mstr\u001B[39;49m\u001B[43m(\u001B[49m\u001B[43mprompt\u001B[49m\u001B[43m)\u001B[49m\u001B[43m,\u001B[49m\n\u001B[32m   1284\u001B[39m \u001B[43m    \u001B[49m\u001B[38;5;28;43mself\u001B[39;49m\u001B[43m.\u001B[49m\u001B[43m_parent_ident\u001B[49m\u001B[43m[\u001B[49m\u001B[33;43m\"\u001B[39;49m\u001B[33;43mshell\u001B[39;49m\u001B[33;43m\"\u001B[39;49m\u001B[43m]\u001B[49m\u001B[43m,\u001B[49m\n\u001B[32m   1285\u001B[39m \u001B[43m    \u001B[49m\u001B[38;5;28;43mself\u001B[39;49m\u001B[43m.\u001B[49m\u001B[43mget_parent\u001B[49m\u001B[43m(\u001B[49m\u001B[33;43m\"\u001B[39;49m\u001B[33;43mshell\u001B[39;49m\u001B[33;43m\"\u001B[39;49m\u001B[43m)\u001B[49m\u001B[43m,\u001B[49m\n\u001B[32m   1286\u001B[39m \u001B[43m    \u001B[49m\u001B[43mpassword\u001B[49m\u001B[43m=\u001B[49m\u001B[38;5;28;43;01mFalse\u001B[39;49;00m\u001B[43m,\u001B[49m\n\u001B[32m   1287\u001B[39m \u001B[43m\u001B[49m\u001B[43m)\u001B[49m\n",
      "\u001B[36mFile \u001B[39m\u001B[32m~/source/repos/github/lelvilamp/hello-world/.venv/lib/python3.12/site-packages/ipykernel/kernelbase.py:1325\u001B[39m, in \u001B[36mKernel._input_request\u001B[39m\u001B[34m(self, prompt, ident, parent, password)\u001B[39m\n\u001B[32m   1322\u001B[39m \u001B[38;5;28;01mexcept\u001B[39;00m \u001B[38;5;167;01mKeyboardInterrupt\u001B[39;00m:\n\u001B[32m   1323\u001B[39m     \u001B[38;5;66;03m# re-raise KeyboardInterrupt, to truncate traceback\u001B[39;00m\n\u001B[32m   1324\u001B[39m     msg = \u001B[33m\"\u001B[39m\u001B[33mInterrupted by user\u001B[39m\u001B[33m\"\u001B[39m\n\u001B[32m-> \u001B[39m\u001B[32m1325\u001B[39m     \u001B[38;5;28;01mraise\u001B[39;00m \u001B[38;5;167;01mKeyboardInterrupt\u001B[39;00m(msg) \u001B[38;5;28;01mfrom\u001B[39;00m\u001B[38;5;250m \u001B[39m\u001B[38;5;28;01mNone\u001B[39;00m\n\u001B[32m   1326\u001B[39m \u001B[38;5;28;01mexcept\u001B[39;00m \u001B[38;5;167;01mException\u001B[39;00m:\n\u001B[32m   1327\u001B[39m     \u001B[38;5;28mself\u001B[39m.log.warning(\u001B[33m\"\u001B[39m\u001B[33mInvalid Message:\u001B[39m\u001B[33m\"\u001B[39m, exc_info=\u001B[38;5;28;01mTrue\u001B[39;00m)\n",
      "\u001B[31mKeyboardInterrupt\u001B[39m: Interrupted by user"
     ]
    }
   ],
   "execution_count": 8
  },
  {
   "cell_type": "code",
   "id": "5b099bae",
   "metadata": {},
   "source": [],
   "outputs": [],
   "execution_count": null
  }
 ],
 "metadata": {
  "kernelspec": {
   "display_name": ".venv",
   "language": "python",
   "name": "python3"
  },
  "language_info": {
   "codemirror_mode": {
    "name": "ipython",
    "version": 3
   },
   "file_extension": ".py",
   "mimetype": "text/x-python",
   "name": "python",
   "nbconvert_exporter": "python",
   "pygments_lexer": "ipython3",
   "version": "3.12.6"
  }
 },
 "nbformat": 4,
 "nbformat_minor": 5
}
